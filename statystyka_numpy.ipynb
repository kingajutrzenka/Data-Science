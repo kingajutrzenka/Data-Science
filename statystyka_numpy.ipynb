{
  "nbformat": 4,
  "nbformat_minor": 0,
  "metadata": {
    "colab": {
      "provenance": [],
      "authorship_tag": "ABX9TyM0+cEZSLbc3Cw7P0MHwDQq",
      "include_colab_link": true
    },
    "kernelspec": {
      "name": "python3",
      "display_name": "Python 3"
    },
    "language_info": {
      "name": "python"
    }
  },
  "cells": [
    {
      "cell_type": "markdown",
      "metadata": {
        "id": "view-in-github",
        "colab_type": "text"
      },
      "source": [
        "<a href=\"https://colab.research.google.com/github/kingajutrzenka/Data-Science/blob/main/statystyka_numpy.ipynb\" target=\"_parent\"><img src=\"https://colab.research.google.com/assets/colab-badge.svg\" alt=\"Open In Colab\"/></a>"
      ]
    },
    {
      "cell_type": "markdown",
      "source": [
        "**funkcje statystyczne numpy**"
      ],
      "metadata": {
        "id": "L1cHIO_dlbcM"
      }
    },
    {
      "cell_type": "code",
      "execution_count": 29,
      "metadata": {
        "colab": {
          "base_uri": "https://localhost:8080/",
          "height": 36
        },
        "id": "K7mL_RIelZ7D",
        "outputId": "ef9628f0-1b2a-4749-cf41-7ee2672efd99"
      },
      "outputs": [
        {
          "output_type": "execute_result",
          "data": {
            "text/plain": [
              "'2.0.2'"
            ],
            "application/vnd.google.colaboratory.intrinsic+json": {
              "type": "string"
            }
          },
          "metadata": {},
          "execution_count": 29
        }
      ],
      "source": [
        "import numpy as np\n",
        "np.__version__"
      ]
    },
    {
      "cell_type": "code",
      "source": [
        "price = np.array([[12.40, 12.80, 11.90, 12.60, 1000],\n",
        "                  [12.50, 13.00, 11.70, 12.20, 2000],\n",
        "                  [12.20, 13.40, 12.20, 13.20, 1500]])\n",
        "print(price)"
      ],
      "metadata": {
        "colab": {
          "base_uri": "https://localhost:8080/"
        },
        "id": "eIXN8goDltKZ",
        "outputId": "d410ab58-29a1-46a7-e6a2-9b538a741ed3"
      },
      "execution_count": 30,
      "outputs": [
        {
          "output_type": "stream",
          "name": "stdout",
          "text": [
            "[[  12.4   12.8   11.9   12.6 1000. ]\n",
            " [  12.5   13.    11.7   12.2 2000. ]\n",
            " [  12.2   13.4   12.2   13.2 1500. ]]\n"
          ]
        }
      ]
    },
    {
      "cell_type": "code",
      "source": [
        "#suma wszystkich elementów:\n",
        "a =price.sum()\n",
        "print(a)\n",
        "#sumowanie po kolumnach 0\n",
        "b = price.sum(axis=0)\n",
        "print(b)\n",
        "#sumowanie po wierszach 1\n",
        "c = price.sum(axis=1)\n",
        "print(c)"
      ],
      "metadata": {
        "colab": {
          "base_uri": "https://localhost:8080/"
        },
        "id": "AEVUwN-7l61L",
        "outputId": "6ede8eef-ce2b-4dc5-aedb-37bfa81af498"
      },
      "execution_count": 31,
      "outputs": [
        {
          "output_type": "stream",
          "name": "stdout",
          "text": [
            "4650.1\n",
            "[  37.1   39.2   35.8   38.  4500. ]\n",
            "[1049.7 2049.4 1551. ]\n"
          ]
        }
      ]
    },
    {
      "cell_type": "code",
      "source": [
        "#minimum:\n",
        "print(price.min())\n",
        "print(price.min(axis=0))\n",
        "print(price.min(axis=1))"
      ],
      "metadata": {
        "colab": {
          "base_uri": "https://localhost:8080/"
        },
        "id": "7Y1oef_KmmcG",
        "outputId": "863ce368-5efb-4c2b-8b77-3be531d5a268"
      },
      "execution_count": 32,
      "outputs": [
        {
          "output_type": "stream",
          "name": "stdout",
          "text": [
            "11.7\n",
            "[  12.2   12.8   11.7   12.2 1000. ]\n",
            "[11.9 11.7 12.2]\n"
          ]
        }
      ]
    },
    {
      "cell_type": "code",
      "source": [
        "#cena max\n",
        "print(price.max())\n",
        "print(price.max(axis=0))\n",
        "print(price.max(axis=1))"
      ],
      "metadata": {
        "colab": {
          "base_uri": "https://localhost:8080/"
        },
        "id": "xpSazNSamycD",
        "outputId": "91213421-b0d5-48c9-ceab-a23106f69e6f"
      },
      "execution_count": 33,
      "outputs": [
        {
          "output_type": "stream",
          "name": "stdout",
          "text": [
            "2000.0\n",
            "[  12.5   13.4   12.2   13.2 2000. ]\n",
            "[1000. 2000. 1500.]\n"
          ]
        }
      ]
    },
    {
      "cell_type": "code",
      "source": [
        "#mediana\n",
        "print(np.median(price))"
      ],
      "metadata": {
        "colab": {
          "base_uri": "https://localhost:8080/"
        },
        "id": "ilAszpOgnErV",
        "outputId": "fd06e17e-2822-4243-e3bb-65281faa8a67"
      },
      "execution_count": 34,
      "outputs": [
        {
          "output_type": "stream",
          "name": "stdout",
          "text": [
            "12.6\n"
          ]
        }
      ]
    },
    {
      "cell_type": "code",
      "source": [
        "np.set_printoptions(precision=4, suppress=True)"
      ],
      "metadata": {
        "id": "x3JUcdgRn4LF"
      },
      "execution_count": 35,
      "outputs": []
    },
    {
      "cell_type": "code",
      "source": [
        "#wariancja\n",
        "np.var(price)"
      ],
      "metadata": {
        "colab": {
          "base_uri": "https://localhost:8080/"
        },
        "id": "B69Y93j3nxvi",
        "outputId": "994d9bfc-cf24-4d3b-a393-a787b811dd3b"
      },
      "execution_count": 36,
      "outputs": [
        {
          "output_type": "execute_result",
          "data": {
            "text/plain": [
              "np.float64(387354.5619555555)"
            ]
          },
          "metadata": {},
          "execution_count": 36
        }
      ]
    },
    {
      "cell_type": "code",
      "source": [
        "#średnia\n",
        "np.mean(price, axis=0, dtype = \"int\")"
      ],
      "metadata": {
        "colab": {
          "base_uri": "https://localhost:8080/"
        },
        "id": "VPZ3dwW0ndRr",
        "outputId": "82e02593-07ae-4cad-8ad4-808cc86616a8"
      },
      "execution_count": 37,
      "outputs": [
        {
          "output_type": "execute_result",
          "data": {
            "text/plain": [
              "array([  12,   12,   11,   12, 1500])"
            ]
          },
          "metadata": {},
          "execution_count": 37
        }
      ]
    },
    {
      "cell_type": "code",
      "source": [
        "#odchylenie standardowe\n",
        "np.std(price)"
      ],
      "metadata": {
        "colab": {
          "base_uri": "https://localhost:8080/"
        },
        "id": "Qkl5hijVno8C",
        "outputId": "e95fc721-84b5-4827-8503-9b5a9e03e315"
      },
      "execution_count": 38,
      "outputs": [
        {
          "output_type": "execute_result",
          "data": {
            "text/plain": [
              "np.float64(622.3781502877133)"
            ]
          },
          "metadata": {},
          "execution_count": 38
        }
      ]
    },
    {
      "cell_type": "markdown",
      "source": [
        "**wzory**\n",
        "* ogólnie: np.coś(nazwa)\n",
        "* może być też np.coś(nazwa, axis=0/1)\n",
        "* można też dodać tak jak axis dtype"
      ],
      "metadata": {
        "id": "l60XlHNHoCeh"
      }
    }
  ]
}