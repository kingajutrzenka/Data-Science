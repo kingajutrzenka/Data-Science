{
  "nbformat": 4,
  "nbformat_minor": 0,
  "metadata": {
    "colab": {
      "provenance": [],
      "authorship_tag": "ABX9TyMzUoErcC2jN9WHjy5hSx1a",
      "include_colab_link": true
    },
    "kernelspec": {
      "name": "python3",
      "display_name": "Python 3"
    },
    "language_info": {
      "name": "python"
    }
  },
  "cells": [
    {
      "cell_type": "markdown",
      "metadata": {
        "id": "view-in-github",
        "colab_type": "text"
      },
      "source": [
        "<a href=\"https://colab.research.google.com/github/kingajutrzenka/Data-Science/blob/main/algebra_liniowa.ipynb\" target=\"_parent\"><img src=\"https://colab.research.google.com/assets/colab-badge.svg\" alt=\"Open In Colab\"/></a>"
      ]
    },
    {
      "cell_type": "markdown",
      "source": [
        "Algebra liniowa [*]"
      ],
      "metadata": {
        "id": "31FGDR62a2jU"
      }
    },
    {
      "cell_type": "code",
      "source": [
        "import numpy as np\n",
        "np.__version__"
      ],
      "metadata": {
        "colab": {
          "base_uri": "https://localhost:8080/",
          "height": 36
        },
        "id": "kcakyA_rbCT4",
        "outputId": "3bb86ec2-68cd-4761-9c3f-27e577add4d8"
      },
      "execution_count": 2,
      "outputs": [
        {
          "output_type": "execute_result",
          "data": {
            "text/plain": [
              "'2.0.2'"
            ],
            "application/vnd.google.colaboratory.intrinsic+json": {
              "type": "string"
            }
          },
          "metadata": {},
          "execution_count": 2
        }
      ]
    },
    {
      "cell_type": "markdown",
      "source": [
        "wektory"
      ],
      "metadata": {
        "id": "q6GZZ_OLa7sS"
      }
    },
    {
      "cell_type": "code",
      "execution_count": 3,
      "metadata": {
        "colab": {
          "base_uri": "https://localhost:8080/"
        },
        "id": "RMskAxQXa1yl",
        "outputId": "e8bc392f-65f5-44c0-8610-ee4ebac5c78b"
      },
      "outputs": [
        {
          "output_type": "stream",
          "name": "stdout",
          "text": [
            "[-1  4]\n"
          ]
        },
        {
          "output_type": "execute_result",
          "data": {
            "text/plain": [
              "np.float64(4.123105625617661)"
            ]
          },
          "metadata": {},
          "execution_count": 3
        }
      ],
      "source": [
        "v1 = np.array([-1, 4])\n",
        "print(v1)\n",
        "# to jest wektor o początku 0 i końcówce 4\n",
        "# liczymy długość:\n",
        "np.linalg.norm(v1)"
      ]
    },
    {
      "cell_type": "markdown",
      "source": [
        "długość wektora w przestrzeni  R^n (norma euklidesowa)"
      ],
      "metadata": {
        "id": "Q6ot3RLDbtNG"
      }
    },
    {
      "cell_type": "code",
      "source": [
        "v2 = np.array([-10, 10, 13])\n",
        "np.linalg.norm(v2)\n",
        "# jest to w przetsrzeni R^3"
      ],
      "metadata": {
        "colab": {
          "base_uri": "https://localhost:8080/"
        },
        "id": "TEChNIVnb6G1",
        "outputId": "6be605fa-482d-494e-8a5a-df206f475284"
      },
      "execution_count": 4,
      "outputs": [
        {
          "output_type": "execute_result",
          "data": {
            "text/plain": [
              "np.float64(19.209372712298546)"
            ]
          },
          "metadata": {},
          "execution_count": 4
        }
      ]
    },
    {
      "cell_type": "markdown",
      "source": [
        "odleglość punktów w przestrzeni R^n"
      ],
      "metadata": {
        "id": "tlOFT0vqcRT5"
      }
    },
    {
      "cell_type": "code",
      "source": [
        "# na płaszczyźnie\n",
        "p = np.array([3, 0])\n",
        "q = np.array([0, 4])\n",
        "o = np.linalg.norm(p - q)\n",
        "print(o)\n",
        "# w przestrzeni R^3\n",
        "z = np.array([3, 0, 1])\n",
        "y = np.array([0, 4, 2])\n",
        "h = np.linalg.norm(z - y)\n",
        "print(h)\n"
      ],
      "metadata": {
        "colab": {
          "base_uri": "https://localhost:8080/"
        },
        "id": "VffpksPkcQiW",
        "outputId": "981a8076-a2ba-4b4e-b7a6-0ce623e4f2f7"
      },
      "execution_count": 5,
      "outputs": [
        {
          "output_type": "stream",
          "name": "stdout",
          "text": [
            "5.0\n",
            "5.0990195135927845\n"
          ]
        }
      ]
    },
    {
      "cell_type": "markdown",
      "source": [
        "w przypadku mnożenia macierzy liczba kolumn w lewej macierzy musi się zgadzać z liczbą wierszy w  prawej"
      ],
      "metadata": {
        "id": "0u8BX48bdUC6"
      }
    },
    {
      "cell_type": "code",
      "source": [
        "x = np.array([[5, 3], [3, 9]])\n",
        "y = np.array([[1], [-1]])\n",
        "print(np.dot(x, y))\n",
        "print(x)\n",
        "print(y)\n",
        "# print(np.dot(y, x)) wtedy wyskoczy błąd"
      ],
      "metadata": {
        "colab": {
          "base_uri": "https://localhost:8080/"
        },
        "id": "nGdieBSud62O",
        "outputId": "4cfea3a6-bcd7-4b92-d790-ca6fb4657943"
      },
      "execution_count": 6,
      "outputs": [
        {
          "output_type": "stream",
          "name": "stdout",
          "text": [
            "[[ 2]\n",
            " [-6]]\n",
            "[[5 3]\n",
            " [3 9]]\n",
            "[[ 1]\n",
            " [-1]]\n"
          ]
        }
      ]
    },
    {
      "cell_type": "code",
      "source": [
        "x = np.array([[2, -1, 3],\n",
        "              [3, 1, 0]])\n",
        "y = np.array([[2, 1, -1],\n",
        "              [0, -1, 2],\n",
        "              [3, 2, 0]])\n",
        "print(np.dot(x, y))"
      ],
      "metadata": {
        "colab": {
          "base_uri": "https://localhost:8080/"
        },
        "id": "UmNEl6zBepBe",
        "outputId": "0fb94479-d9f3-46b9-fd31-ec86fcdcfd84"
      },
      "execution_count": 7,
      "outputs": [
        {
          "output_type": "stream",
          "name": "stdout",
          "text": [
            "[[13  9 -4]\n",
            " [ 6  2 -1]]\n"
          ]
        }
      ]
    },
    {
      "cell_type": "code",
      "source": [
        "o = np.array([[2, 3, 4],\n",
        "             [5, 6, 7],\n",
        "             [8, 9, 10]])\n",
        "print(o)\n",
        "wyznacznik_macierzy = np.linalg.det(o)\n",
        "print(wyznacznik_macierzy)"
      ],
      "metadata": {
        "colab": {
          "base_uri": "https://localhost:8080/"
        },
        "id": "aED00Un0fGvo",
        "outputId": "3d7fe3ee-b1ff-426a-911e-c2ab496225be"
      },
      "execution_count": 8,
      "outputs": [
        {
          "output_type": "stream",
          "name": "stdout",
          "text": [
            "[[ 2  3  4]\n",
            " [ 5  6  7]\n",
            " [ 8  9 10]]\n",
            "0.0\n"
          ]
        }
      ]
    },
    {
      "cell_type": "code",
      "source": [
        "macierz = np.array([[12, 33],\n",
        "                    [15, 8]])\n",
        "wm = np.linalg.det(macierz)\n",
        "print(wm)"
      ],
      "metadata": {
        "colab": {
          "base_uri": "https://localhost:8080/"
        },
        "id": "vvxYktKbf3SC",
        "outputId": "bbf91f3e-5f4b-4dc8-fee5-a5871d523f35"
      },
      "execution_count": 9,
      "outputs": [
        {
          "output_type": "stream",
          "name": "stdout",
          "text": [
            "-399.0000000000001\n"
          ]
        }
      ]
    },
    {
      "cell_type": "markdown",
      "source": [
        "**ślad macierzy** - suma elementów na przekątnej (głownej tzn lewa góra - prawa dół)"
      ],
      "metadata": {
        "id": "n_dZBRxcgSVn"
      }
    },
    {
      "cell_type": "code",
      "source": [
        "macierz = np.array([[12, 33],\n",
        "                    [15, 8]])\n",
        "print(np.trace(macierz))"
      ],
      "metadata": {
        "colab": {
          "base_uri": "https://localhost:8080/"
        },
        "id": "dF2yY9UBgP2Y",
        "outputId": "007f5c63-36be-45be-ebca-cf7c942db8df"
      },
      "execution_count": 10,
      "outputs": [
        {
          "output_type": "stream",
          "name": "stdout",
          "text": [
            "20\n"
          ]
        }
      ]
    },
    {
      "cell_type": "markdown",
      "source": [
        "macierz jednostkowa [1, 0, 0], generowanie:"
      ],
      "metadata": {
        "id": "sg47emAcg1yj"
      }
    },
    {
      "cell_type": "code",
      "source": [
        "np.eye(3)"
      ],
      "metadata": {
        "colab": {
          "base_uri": "https://localhost:8080/"
        },
        "id": "176a8oeRg8WR",
        "outputId": "3d7b3f7f-b211-4de7-9c37-5c28c94171ee"
      },
      "execution_count": 11,
      "outputs": [
        {
          "output_type": "execute_result",
          "data": {
            "text/plain": [
              "array([[1., 0., 0.],\n",
              "       [0., 1., 0.],\n",
              "       [0., 0., 1.]])"
            ]
          },
          "metadata": {},
          "execution_count": 11
        }
      ]
    },
    {
      "cell_type": "code",
      "source": [
        "np.eye(3,2)"
      ],
      "metadata": {
        "colab": {
          "base_uri": "https://localhost:8080/"
        },
        "id": "MVEK3JBuhExA",
        "outputId": "96e0cc0a-e1ca-4714-8937-6ff31f401a39"
      },
      "execution_count": 12,
      "outputs": [
        {
          "output_type": "execute_result",
          "data": {
            "text/plain": [
              "array([[1., 0.],\n",
              "       [0., 1.],\n",
              "       [0., 0.]])"
            ]
          },
          "metadata": {},
          "execution_count": 12
        }
      ]
    },
    {
      "cell_type": "code",
      "source": [
        "np.eye(5, dtype= \"int\")"
      ],
      "metadata": {
        "colab": {
          "base_uri": "https://localhost:8080/"
        },
        "id": "j8qfes4NhIjW",
        "outputId": "80b9af4f-c662-4cbb-80bc-16abbcaecf73"
      },
      "execution_count": 13,
      "outputs": [
        {
          "output_type": "execute_result",
          "data": {
            "text/plain": [
              "array([[1, 0, 0, 0, 0],\n",
              "       [0, 1, 0, 0, 0],\n",
              "       [0, 0, 1, 0, 0],\n",
              "       [0, 0, 0, 1, 0],\n",
              "       [0, 0, 0, 0, 1]])"
            ]
          },
          "metadata": {},
          "execution_count": 13
        }
      ]
    },
    {
      "cell_type": "markdown",
      "source": [
        "macierz odwrotna, gdy A*B = B#A = 1"
      ],
      "metadata": {
        "id": "U-4BMQTthXEd"
      }
    },
    {
      "cell_type": "code",
      "source": [
        "A = np.array([[2, 4], [-1, 3]])\n",
        "print(A)\n",
        "B = np.linalg.inv(A)\n",
        "print(B)\n",
        "s = np.dot(A, B)\n",
        "# bez notacji mat. możemy mieć większą precyzję:\n",
        "print(np.set_printoptions(precision=4, suppress=True))\n",
        "print(s)\n",
        "print(np.dot(B, A))\n",
        "# powstają macierze jednostkowe :)"
      ],
      "metadata": {
        "colab": {
          "base_uri": "https://localhost:8080/"
        },
        "id": "YvL7czBHhP3U",
        "outputId": "2976dccc-8308-413d-c847-f72f4a045415"
      },
      "execution_count": 14,
      "outputs": [
        {
          "output_type": "stream",
          "name": "stdout",
          "text": [
            "[[ 2  4]\n",
            " [-1  3]]\n",
            "[[ 0.3 -0.4]\n",
            " [ 0.1  0.2]]\n",
            "None\n",
            "[[1. 0.]\n",
            " [0. 1.]]\n",
            "[[ 1. -0.]\n",
            " [ 0.  1.]]\n"
          ]
        }
      ]
    },
    {
      "cell_type": "markdown",
      "source": [
        "**macierz transponowana** - zamiana wierszy na kolumne i kolumn na wiersze"
      ],
      "metadata": {
        "id": "_D-FlEALiiIE"
      }
    },
    {
      "cell_type": "code",
      "source": [
        "Z = np.array([[2,4], [3,5], [2,7]])\n",
        "print(Z)\n",
        "u = (np.transpose(Z))\n",
        "print(u)\n",
        "b = Z.T\n",
        "print(b)\n",
        "# np.transpose() = x.T"
      ],
      "metadata": {
        "colab": {
          "base_uri": "https://localhost:8080/"
        },
        "id": "eNsJVVwEihM6",
        "outputId": "fabdceb4-7edc-4083-cd8b-db14f35b3f4d"
      },
      "execution_count": 15,
      "outputs": [
        {
          "output_type": "stream",
          "name": "stdout",
          "text": [
            "[[2 4]\n",
            " [3 5]\n",
            " [2 7]]\n",
            "[[2 3 2]\n",
            " [4 5 7]]\n",
            "[[2 3 2]\n",
            " [4 5 7]]\n"
          ]
        }
      ]
    },
    {
      "cell_type": "markdown",
      "source": [
        "**rozwiązywanie układów równań**"
      ],
      "metadata": {
        "id": "cDSPIKOliEHO"
      }
    },
    {
      "cell_type": "code",
      "metadata": {
        "colab": {
          "base_uri": "https://localhost:8080/"
        },
        "id": "5ec045d9",
        "outputId": "1db34ab1-0064-4746-914b-843b84211464"
      },
      "source": [
        "# Rozwiązywanie układu równań liniowych\n",
        "# Przykład:\n",
        "# 2x + 3y = 6\n",
        "# x  + y  = 2\n",
        "\n",
        "# Reprezentacja macierzowa:\n",
        "# [[2, 3], [1, 1]] * [x, y] = [6, 2]\n",
        "\n",
        "A = np.array([[2, 3], [1, 1]])\n",
        "b = np.array([6, 2])\n",
        "\n",
        "# Rozwiązanie układu równań\n",
        "x = np.linalg.solve(A, b)\n",
        "\n",
        "print(\"Rozwiązanie układu równań (x, y):\")\n",
        "print(x)"
      ],
      "execution_count": 16,
      "outputs": [
        {
          "output_type": "stream",
          "name": "stdout",
          "text": [
            "Rozwiązanie układu równań (x, y):\n",
            "[0. 2.]\n"
          ]
        }
      ]
    },
    {
      "cell_type": "code",
      "source": [
        "# 2x + 4y = 10\n",
        "# x - y = -1\n",
        "A = np.array([[2, 4], [1, -1]]) # przepisujemy współczynniki przed stałymi\n",
        "B= np.array([10, -1]) # przepisujemy stałe\n",
        "X = np.linalg.solve(A, B)\n",
        "print(X)"
      ],
      "metadata": {
        "colab": {
          "base_uri": "https://localhost:8080/"
        },
        "id": "4X7uL0OqjVS6",
        "outputId": "c9391557-5791-4217-c764-4df1242e9b5b"
      },
      "execution_count": 17,
      "outputs": [
        {
          "output_type": "stream",
          "name": "stdout",
          "text": [
            "[1. 2.]\n"
          ]
        }
      ]
    }
  ]
}